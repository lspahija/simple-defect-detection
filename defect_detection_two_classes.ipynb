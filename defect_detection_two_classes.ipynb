{
 "nbformat": 4,
 "nbformat_minor": 0,
 "metadata": {
  "colab": {
   "provenance": [],
   "gpuType": "T4"
  },
  "kernelspec": {
   "name": "python3",
   "language": "python",
   "display_name": "Python 3 (ipykernel)"
  },
  "language_info": {
   "name": "python"
  },
  "accelerator": "GPU"
 },
 "cells": [
  {
   "cell_type": "code",
   "source": [
    "from PIL import Image\n",
    "import torch\n",
    "import torch.nn as nn\n",
    "import torch.optim as optim\n",
    "from torchvision import datasets, models, transforms\n",
    "from torchvision.models import ResNet18_Weights\n",
    "from torch.utils.data import DataLoader"
   ],
   "metadata": {
    "id": "Q1J6BzlW9o3E",
    "is_executing": true
   },
   "execution_count": null,
   "outputs": []
  },
  {
   "cell_type": "code",
   "source": [
    "train_transforms = transforms.Compose([\n",
    "    transforms.RandomResizedCrop(224),\n",
    "    transforms.RandomHorizontalFlip(),\n",
    "    transforms.ToTensor(),\n",
    "    transforms.Normalize([0.485, 0.456, 0.406], [0.229, 0.224, 0.225])\n",
    "])\n",
    "\n",
    "inference_transforms = transforms.Compose([\n",
    "    transforms.Resize(256),\n",
    "    transforms.CenterCrop(224),\n",
    "    transforms.ToTensor(),\n",
    "    transforms.Normalize([0.485, 0.456, 0.406], [0.229, 0.224, 0.225])\n",
    "])"
   ],
   "metadata": {
    "id": "v_vPEkZY0fn7",
    "ExecuteTime": {
     "end_time": "2024-01-20T18:40:18.625364Z",
     "start_time": "2024-01-20T18:40:18.622363Z"
    }
   },
   "execution_count": 2,
   "outputs": []
  },
  {
   "cell_type": "code",
   "source": [
    "train_dataset = datasets.ImageFolder(root='/Users/luka/PyCharmProjects/simple-defect-detection/data/casting_data/train', transform=train_transforms)\n",
    "\n",
    "train_loader = DataLoader(train_dataset, batch_size=32, shuffle=True)"
   ],
   "metadata": {
    "id": "n0YFc6Mv0wBq",
    "ExecuteTime": {
     "end_time": "2024-01-20T18:40:20.007033Z",
     "start_time": "2024-01-20T18:40:19.992004Z"
    }
   },
   "execution_count": 3,
   "outputs": []
  },
  {
   "cell_type": "code",
   "source": [
    "if torch.cuda.is_available():\n",
    "    device = torch.device(\"cuda\")\n",
    "elif torch.backends.mps.is_available():\n",
    "    device = torch.device(\"mps\")\n",
    "else:\n",
    "    device = torch.device(\"cpu\")\n",
    "    \n",
    "device"
   ],
   "metadata": {
    "colab": {
     "base_uri": "https://localhost:8080/"
    },
    "id": "27pvQGPGexVY",
    "outputId": "fd352bf9-31f1-4dc7-d6a5-7357b43078af",
    "ExecuteTime": {
     "end_time": "2024-01-20T18:40:22.820590Z",
     "start_time": "2024-01-20T18:40:22.813382Z"
    }
   },
   "execution_count": 4,
   "outputs": [
    {
     "data": {
      "text/plain": "device(type='mps')"
     },
     "execution_count": 4,
     "metadata": {},
     "output_type": "execute_result"
    }
   ]
  },
  {
   "cell_type": "code",
   "execution_count": 5,
   "outputs": [],
   "source": [
    "model = models.resnet18(weights=ResNet18_Weights.DEFAULT)\n",
    "\n",
    "# Modify the final fully connected layer to match the number of classes in your new dataset\n",
    "num_features = model.fc.in_features\n",
    "model.fc = nn.Linear(num_features, 2)  # num_classes should be set to the number of your new categories\n",
    "\n",
    "model = model.to(device)"
   ],
   "metadata": {
    "colab": {
     "base_uri": "https://localhost:8080/"
    },
    "id": "0j6ffsaxeLEe",
    "outputId": "a1d9221b-8505-4555-b561-6ab18a1c8462",
    "ExecuteTime": {
     "end_time": "2024-01-20T18:40:24.502455Z",
     "start_time": "2024-01-20T18:40:24.281730Z"
    }
   }
  },
  {
   "cell_type": "code",
   "source": [
    "criterion = nn.CrossEntropyLoss()\n",
    "optimizer = optim.Adam(model.parameters())"
   ],
   "metadata": {
    "id": "faZn6i9te3oX",
    "ExecuteTime": {
     "end_time": "2024-01-20T18:40:26.152822Z",
     "start_time": "2024-01-20T18:40:26.148248Z"
    }
   },
   "execution_count": 6,
   "outputs": []
  },
  {
   "cell_type": "code",
   "source": [
    "model.train()\n",
    "num_epochs = 3\n",
    "\n",
    "for epoch in range(num_epochs):\n",
    "    running_loss = 0.0\n",
    "\n",
    "    for inputs, labels in train_loader:\n",
    "        inputs, labels = inputs.to(device), labels.to(device)\n",
    "\n",
    "        optimizer.zero_grad()\n",
    "\n",
    "        outputs = model(inputs)\n",
    "        loss = criterion(outputs, labels)\n",
    "\n",
    "        loss.backward()\n",
    "        optimizer.step()\n",
    "\n",
    "        running_loss += loss.item()\n",
    "\n",
    "    print(f\"Epoch {epoch+1}/{num_epochs}, Loss: {running_loss/len(train_loader)}\")\n",
    "\n",
    "print(\"Training complete\")"
   ],
   "metadata": {
    "colab": {
     "base_uri": "https://localhost:8080/"
    },
    "id": "W2gIsbz7fB2_",
    "outputId": "af9f20aa-68e5-4b74-890c-25db2c50ac7f",
    "ExecuteTime": {
     "end_time": "2024-01-20T18:42:01.532652Z",
     "start_time": "2024-01-20T18:40:27.118734Z"
    }
   },
   "execution_count": 7,
   "outputs": [
    {
     "name": "stdout",
     "output_type": "stream",
     "text": [
      "Epoch 1/3, Loss: 0.25737475441732943\n",
      "Epoch 2/3, Loss: 0.14873862069977734\n",
      "Epoch 3/3, Loss: 0.1380754316968915\n",
      "Training complete\n"
     ]
    }
   ]
  },
  {
   "cell_type": "code",
   "execution_count": 8,
   "outputs": [],
   "source": [
    "val_dataset = datasets.ImageFolder(root='/Users/luka/PyCharmProjects/simple-defect-detection/data/casting_data/test', transform=inference_transforms)\n",
    "val_loader = DataLoader(val_dataset, batch_size=32, shuffle=False)"
   ],
   "metadata": {
    "collapsed": false,
    "ExecuteTime": {
     "end_time": "2024-01-20T18:42:05.049711Z",
     "start_time": "2024-01-20T18:42:05.041311Z"
    }
   }
  },
  {
   "cell_type": "code",
   "execution_count": 9,
   "outputs": [
    {
     "name": "stdout",
     "output_type": "stream",
     "text": [
      "Test Loss: 0.03548820461804533, Accuracy: 99.02097902097903%\n"
     ]
    }
   ],
   "source": [
    "model.eval()\n",
    "val_loss = 0.0\n",
    "correct = 0\n",
    "total = 0\n",
    "\n",
    "with torch.no_grad():\n",
    "    for inputs, labels in val_loader:\n",
    "        inputs, labels = inputs.to(device), labels.to(device)\n",
    "        outputs = model(inputs)\n",
    "        loss = criterion(outputs, labels)\n",
    "        val_loss += loss.item()\n",
    "        _, predicted = torch.max(outputs.data, 1)\n",
    "        total += labels.size(0)\n",
    "        correct += (predicted == labels).sum().item()\n",
    "\n",
    "print(f\"Test Loss: {val_loss / len(val_loader)}, Accuracy: {100 * correct / total}%\")"
   ],
   "metadata": {
    "collapsed": false,
    "ExecuteTime": {
     "end_time": "2024-01-20T18:42:11.522350Z",
     "start_time": "2024-01-20T18:42:09.463338Z"
    }
   }
  },
  {
   "cell_type": "code",
   "execution_count": 10,
   "outputs": [],
   "source": [
    "idx_to_class = {v: k for k, v in train_dataset.class_to_idx.items()}\n",
    "\n",
    "def predict(img_path):\n",
    "  image = Image.open(img_path)\n",
    "\n",
    "  transformed_image = inference_transforms(image)\n",
    "  transformed_image = transformed_image.unsqueeze(0)  # Add batch dimension\n",
    "  transformed_image = transformed_image.to(device)\n",
    "\n",
    "  model.eval()\n",
    "\n",
    "  with torch.no_grad():\n",
    "      outputs = model(transformed_image)\n",
    "      _, predicted = torch.max(outputs, 1)\n",
    "      predicted_class = idx_to_class[predicted.item()]\n",
    "\n",
    "  return predicted_class"
   ],
   "metadata": {
    "id": "AmWZEiQUzGcy",
    "ExecuteTime": {
     "end_time": "2024-01-20T18:42:19.895381Z",
     "start_time": "2024-01-20T18:42:19.892695Z"
    }
   }
  },
  {
   "cell_type": "code",
   "execution_count": 14,
   "outputs": [
    {
     "name": "stdout",
     "output_type": "stream",
     "text": [
      "Predicted class: def_front\n"
     ]
    }
   ],
   "source": [
    "predicted_class = predict('/Users/luka/PyCharmProjects/simple-defect-detection/data/casting_data/test/def_front/cast_def_0_1447.jpeg')\n",
    "\n",
    "print(f'Predicted class: {predicted_class}')"
   ],
   "metadata": {
    "colab": {
     "base_uri": "https://localhost:8080/"
    },
    "id": "WD4Fbj594Bhb",
    "outputId": "d3f04aab-af66-4323-eb2c-d52cc50ca51a",
    "ExecuteTime": {
     "end_time": "2024-01-20T18:43:13.243877Z",
     "start_time": "2024-01-20T18:43:13.185398Z"
    }
   }
  },
  {
   "cell_type": "code",
   "execution_count": null,
   "outputs": [],
   "source": [],
   "metadata": {
    "collapsed": false
   }
  }
 ]
}
