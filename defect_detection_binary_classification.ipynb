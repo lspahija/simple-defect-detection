{
 "nbformat": 4,
 "nbformat_minor": 0,
 "metadata": {
  "colab": {
   "provenance": [],
   "gpuType": "T4"
  },
  "kernelspec": {
   "name": "python3",
   "language": "python",
   "display_name": "Python 3 (ipykernel)"
  },
  "language_info": {
   "name": "python"
  },
  "accelerator": "GPU"
 },
 "cells": [
  {
   "cell_type": "code",
   "source": [
    "!pip install -q opendatasets\n",
    "\n",
    "from PIL import Image\n",
    "import torch\n",
    "import torch.nn as nn\n",
    "import torch.optim as optim\n",
    "from torchvision import datasets, models, transforms\n",
    "from torchvision.models import ResNet18_Weights\n",
    "from torch.utils.data import DataLoader"
   ],
   "metadata": {
    "id": "Q1J6BzlW9o3E",
    "ExecuteTime": {
     "end_time": "2024-01-20T00:20:21.834838Z",
     "start_time": "2024-01-20T00:20:19.713373Z"
    }
   },
   "execution_count": 1,
   "outputs": [
    {
     "name": "stdout",
     "output_type": "stream",
     "text": [
      "\u001B[33mDEPRECATION: Configuring installation scheme with distutils config files is deprecated and will no longer work in the near future. If you are using a Homebrew or Linuxbrew Python, please see discussion at https://github.com/Homebrew/homebrew-core/issues/76621\u001B[0m\u001B[33m\r\n",
      "\u001B[0m\u001B[33mDEPRECATION: Configuring installation scheme with distutils config files is deprecated and will no longer work in the near future. If you are using a Homebrew or Linuxbrew Python, please see discussion at https://github.com/Homebrew/homebrew-core/issues/76621\u001B[0m\u001B[33m\r\n",
      "\u001B[0m\r\n",
      "\u001B[1m[\u001B[0m\u001B[34;49mnotice\u001B[0m\u001B[1;39;49m]\u001B[0m\u001B[39;49m A new release of pip is available: \u001B[0m\u001B[31;49m23.2.1\u001B[0m\u001B[39;49m -> \u001B[0m\u001B[32;49m23.3.2\u001B[0m\r\n",
      "\u001B[1m[\u001B[0m\u001B[34;49mnotice\u001B[0m\u001B[1;39;49m]\u001B[0m\u001B[39;49m To update, run: \u001B[0m\u001B[32;49mpython3.9 -m pip install --upgrade pip\u001B[0m\r\n"
     ]
    }
   ]
  },
  {
   "cell_type": "code",
   "source": [
    "train_transforms = transforms.Compose([\n",
    "    transforms.RandomResizedCrop(224),\n",
    "    transforms.RandomHorizontalFlip(),\n",
    "    transforms.ToTensor(),\n",
    "    transforms.Normalize([0.485, 0.456, 0.406], [0.229, 0.224, 0.225])\n",
    "])\n",
    "\n",
    "inference_transforms = transforms.Compose([\n",
    "    transforms.Resize(256),\n",
    "    transforms.CenterCrop(224),\n",
    "    transforms.ToTensor(),\n",
    "    transforms.Normalize([0.485, 0.456, 0.406], [0.229, 0.224, 0.225])\n",
    "])"
   ],
   "metadata": {
    "id": "v_vPEkZY0fn7",
    "ExecuteTime": {
     "end_time": "2024-01-20T00:20:23.355291Z",
     "start_time": "2024-01-20T00:20:23.353347Z"
    }
   },
   "execution_count": 2,
   "outputs": []
  },
  {
   "cell_type": "code",
   "source": [
    "train_dataset = datasets.ImageFolder(root='/Users/luka/PyCharmProjects/simple-defect-detection/data/casting_data/train', transform=train_transforms)\n",
    "val_dataset = datasets.ImageFolder(root='/Users/luka/PyCharmProjects/simple-defect-detection/data/casting_data/train', transform=inference_transforms) #TODO: actually create a val dataset\n",
    "\n",
    "train_loader = DataLoader(train_dataset, batch_size=32, shuffle=True)\n",
    "val_loader = DataLoader(val_dataset, batch_size=32, shuffle=False)"
   ],
   "metadata": {
    "id": "n0YFc6Mv0wBq",
    "ExecuteTime": {
     "end_time": "2024-01-20T00:20:25.236192Z",
     "start_time": "2024-01-20T00:20:25.208244Z"
    }
   },
   "execution_count": 3,
   "outputs": []
  },
  {
   "cell_type": "code",
   "source": [
    "if torch.cuda.is_available():\n",
    "    device = torch.device(\"cuda\")\n",
    "elif torch.backends.mps.is_available():\n",
    "    device = torch.device(\"mps\")\n",
    "else:\n",
    "    device = torch.device(\"cpu\")\n",
    "    \n",
    "device"
   ],
   "metadata": {
    "colab": {
     "base_uri": "https://localhost:8080/"
    },
    "id": "27pvQGPGexVY",
    "outputId": "fd352bf9-31f1-4dc7-d6a5-7357b43078af",
    "ExecuteTime": {
     "end_time": "2024-01-20T00:20:26.247130Z",
     "start_time": "2024-01-20T00:20:26.244262Z"
    }
   },
   "execution_count": 4,
   "outputs": [
    {
     "data": {
      "text/plain": "device(type='mps')"
     },
     "execution_count": 4,
     "metadata": {},
     "output_type": "execute_result"
    }
   ]
  },
  {
   "cell_type": "code",
   "execution_count": 5,
   "outputs": [],
   "source": [
    "model = models.resnet18(weights=ResNet18_Weights.DEFAULT)\n",
    "\n",
    "# Modify the final fully connected layer to match the number of classes in your new dataset\n",
    "num_features = model.fc.in_features\n",
    "model.fc = nn.Linear(num_features, 1)\n",
    "\n",
    "model = model.to(device)"
   ],
   "metadata": {
    "colab": {
     "base_uri": "https://localhost:8080/"
    },
    "id": "0j6ffsaxeLEe",
    "outputId": "a1d9221b-8505-4555-b561-6ab18a1c8462",
    "ExecuteTime": {
     "end_time": "2024-01-20T00:20:29.894733Z",
     "start_time": "2024-01-20T00:20:29.669076Z"
    }
   }
  },
  {
   "cell_type": "code",
   "source": [
    "criterion = nn.BCEWithLogitsLoss()\n",
    "optimizer = optim.Adam(model.parameters())"
   ],
   "metadata": {
    "id": "faZn6i9te3oX",
    "ExecuteTime": {
     "end_time": "2024-01-20T00:20:30.846544Z",
     "start_time": "2024-01-20T00:20:30.844448Z"
    }
   },
   "execution_count": 6,
   "outputs": []
  },
  {
   "cell_type": "code",
   "source": [
    "num_epochs = 1\n",
    "\n",
    "for epoch in range(num_epochs):\n",
    "    model.train()\n",
    "    running_loss = 0.0\n",
    "    total = 0\n",
    "    correct = 0\n",
    "\n",
    "    for inputs, labels in train_loader:\n",
    "        inputs, labels = inputs.to(device), labels.to(device)\n",
    "\n",
    "        # Adjust labels to be a float tensor (required for BCEWithLogitsLoss)\n",
    "        labels = labels.float()\n",
    "\n",
    "        optimizer.zero_grad()\n",
    "\n",
    "        outputs = model(inputs).squeeze()  # Remove unnecessary dimensions\n",
    "        loss = criterion(outputs, labels)\n",
    "\n",
    "        loss.backward()\n",
    "        optimizer.step()\n",
    "\n",
    "        running_loss += loss.item()\n",
    "        predicted = torch.sigmoid(outputs) > 0.5  # Applying threshold at 0.5\n",
    "        correct += (predicted == labels).sum().item()\n",
    "        total += labels.size(0)\n",
    "\n",
    "    train_accuracy = 100 * correct / total\n",
    "    print(f\"Epoch {epoch+1}/{num_epochs}, Loss: {running_loss/len(train_loader)}, Accuracy: {train_accuracy}%\")\n",
    "\n",
    "    model.eval()\n",
    "    val_loss = 0.0\n",
    "    correct = 0\n",
    "    total = 0\n",
    "\n",
    "    with torch.no_grad():\n",
    "        for inputs, labels in val_loader:\n",
    "            inputs, labels = inputs.to(device), labels.to(device)\n",
    "            labels = labels.float()\n",
    "\n",
    "            outputs = model(inputs).squeeze()\n",
    "            loss = criterion(outputs, labels)\n",
    "            val_loss += loss.item()\n",
    "            predicted = torch.sigmoid(outputs) > 0.5\n",
    "            total += labels.size(0)\n",
    "            correct += (predicted == labels).sum().item()\n",
    "\n",
    "    val_accuracy = 100 * correct / total\n",
    "    print(f\"Validation Loss: {val_loss/len(val_loader)}, Accuracy: {val_accuracy}%\")\n",
    "\n",
    "print(\"Training complete\")"
   ],
   "metadata": {
    "colab": {
     "base_uri": "https://localhost:8080/"
    },
    "id": "W2gIsbz7fB2_",
    "outputId": "af9f20aa-68e5-4b74-890c-25db2c50ac7f",
    "ExecuteTime": {
     "end_time": "2024-01-20T00:21:22.602813Z",
     "start_time": "2024-01-20T00:20:32.116717Z"
    }
   },
   "execution_count": 7,
   "outputs": [
    {
     "name": "stdout",
     "output_type": "stream",
     "text": [
      "Epoch 1/1, Loss: 0.25763396732509136, Accuracy: 88.42152872003618%\n",
      "Validation Loss: 2.18322100609667, Accuracy: 56.83702698628072%\n",
      "Training complete\n"
     ]
    }
   ]
  },
  {
   "cell_type": "code",
   "source": [
    "def predict(img_path):\n",
    "    image = Image.open(img_path)\n",
    "\n",
    "    transformed_image = inference_transforms(image)\n",
    "    transformed_image = transformed_image.unsqueeze(0)  # Add batch dimension\n",
    "    transformed_image = transformed_image.to(device)\n",
    "\n",
    "    model.eval()\n",
    "\n",
    "    with torch.no_grad():\n",
    "        outputs = model(transformed_image)\n",
    "        # Convert output logits to probability using sigmoid\n",
    "        probability = torch.sigmoid(outputs).item()\n",
    "        predicted_class = 'defective' if probability > 0.5 else 'non-defective'\n",
    "\n",
    "    print(f'Predicted class: {predicted_class}, Probability: {probability}')"
   ],
   "metadata": {
    "id": "AmWZEiQUzGcy",
    "ExecuteTime": {
     "end_time": "2024-01-20T00:18:03.646394Z",
     "start_time": "2024-01-20T00:18:03.642689Z"
    }
   },
   "execution_count": 8,
   "outputs": []
  },
  {
   "cell_type": "code",
   "source": [
    "predict('/Users/luka/PyCharmProjects/simple-defect-detection/data/casting_data/test/ok_front/cast_ok_0_239.jpeg')"
   ],
   "metadata": {
    "colab": {
     "base_uri": "https://localhost:8080/"
    },
    "id": "WD4Fbj594Bhb",
    "outputId": "d3f04aab-af66-4323-eb2c-d52cc50ca51a",
    "ExecuteTime": {
     "end_time": "2024-01-20T00:19:42.408708Z",
     "start_time": "2024-01-20T00:19:42.277035Z"
    }
   },
   "execution_count": 13,
   "outputs": [
    {
     "name": "stdout",
     "output_type": "stream",
     "text": [
      "Predicted class: non-defective, Probability: 0.013920432887971401\n"
     ]
    }
   ]
  },
  {
   "cell_type": "code",
   "execution_count": null,
   "outputs": [],
   "source": [],
   "metadata": {
    "collapsed": false
   }
  }
 ]
}
