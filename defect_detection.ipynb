{
 "nbformat": 4,
 "nbformat_minor": 0,
 "metadata": {
  "colab": {
   "provenance": [],
   "gpuType": "T4"
  },
  "kernelspec": {
   "name": "python3",
   "language": "python",
   "display_name": "Python 3 (ipykernel)"
  },
  "language_info": {
   "name": "python"
  },
  "accelerator": "GPU"
 },
 "cells": [
  {
   "cell_type": "code",
   "execution_count": 1,
   "outputs": [],
   "source": [
    "batch_size = 32\n",
    "num_epochs = 5\n",
    "\n",
    "train_directory = 'data/casting_data/train'\n",
    "validation_directory = 'data/casting_data/val'"
   ],
   "metadata": {
    "collapsed": false,
    "ExecuteTime": {
     "end_time": "2024-01-20T21:25:31.504317Z",
     "start_time": "2024-01-20T21:25:31.500148Z"
    }
   }
  },
  {
   "cell_type": "code",
   "execution_count": 2,
   "outputs": [],
   "source": [
    "from PIL import Image\n",
    "import torch\n",
    "import torch.nn as nn\n",
    "import torch.optim as optim\n",
    "from torch.utils.data import DataLoader, random_split\n",
    "from torchvision import datasets, models, transforms"
   ],
   "metadata": {
    "id": "Q1J6BzlW9o3E",
    "ExecuteTime": {
     "end_time": "2024-01-20T21:25:33.608377Z",
     "start_time": "2024-01-20T21:25:32.439461Z"
    }
   }
  },
  {
   "cell_type": "code",
   "source": [
    "train_transforms = transforms.Compose([\n",
    "    transforms.RandomResizedCrop(224),\n",
    "    transforms.RandomHorizontalFlip(),\n",
    "    transforms.ToTensor(),\n",
    "    transforms.Normalize([0.485, 0.456, 0.406], [0.229, 0.224, 0.225])\n",
    "])\n",
    "\n",
    "inference_transforms = transforms.Compose([\n",
    "    transforms.Resize(256),\n",
    "    transforms.CenterCrop(224),\n",
    "    transforms.ToTensor(),\n",
    "    transforms.Normalize([0.485, 0.456, 0.406], [0.229, 0.224, 0.225])\n",
    "])"
   ],
   "metadata": {
    "id": "v_vPEkZY0fn7",
    "ExecuteTime": {
     "end_time": "2024-01-20T21:25:34.222429Z",
     "start_time": "2024-01-20T21:25:34.217930Z"
    }
   },
   "execution_count": 3,
   "outputs": []
  },
  {
   "cell_type": "code",
   "source": [
    "train_dataset = datasets.ImageFolder(root=train_directory, transform=train_transforms)\n",
    "full_val_dataset = datasets.ImageFolder(root=validation_directory, transform=inference_transforms)\n",
    "\n",
    "val_size = int(0.5 * len(full_val_dataset))\n",
    "test_size = len(full_val_dataset) - val_size\n",
    "val_dataset, test_dataset = random_split(full_val_dataset, [val_size, test_size])\n",
    "\n",
    "train_loader = DataLoader(train_dataset, batch_size=batch_size, shuffle=True)\n",
    "val_loader = DataLoader(val_dataset, batch_size=batch_size, shuffle=False)\n",
    "test_loader = DataLoader(test_dataset, batch_size=batch_size, shuffle=False)"
   ],
   "metadata": {
    "id": "n0YFc6Mv0wBq",
    "ExecuteTime": {
     "end_time": "2024-01-20T21:25:34.983143Z",
     "start_time": "2024-01-20T21:25:34.965525Z"
    }
   },
   "execution_count": 4,
   "outputs": []
  },
  {
   "cell_type": "code",
   "source": [
    "if torch.cuda.is_available():\n",
    "    device = torch.device(\"cuda\")\n",
    "elif torch.backends.mps.is_available():\n",
    "    device = torch.device(\"mps\")\n",
    "else:\n",
    "    device = torch.device(\"cpu\")\n",
    "\n",
    "device"
   ],
   "metadata": {
    "colab": {
     "base_uri": "https://localhost:8080/"
    },
    "id": "27pvQGPGexVY",
    "outputId": "fd352bf9-31f1-4dc7-d6a5-7357b43078af",
    "ExecuteTime": {
     "end_time": "2024-01-20T21:25:35.417545Z",
     "start_time": "2024-01-20T21:25:35.412645Z"
    }
   },
   "execution_count": 5,
   "outputs": [
    {
     "data": {
      "text/plain": "device(type='mps')"
     },
     "execution_count": 5,
     "metadata": {},
     "output_type": "execute_result"
    }
   ]
  },
  {
   "cell_type": "code",
   "execution_count": 6,
   "outputs": [],
   "source": [
    "model = models.resnet18(weights=models.ResNet18_Weights.DEFAULT)\n",
    "\n",
    "# Modify the final fully connected layer to match the number of classes in your new dataset\n",
    "num_features = model.fc.in_features\n",
    "model.fc = nn.Linear(num_features, 2)  # num_classes should be set to the number of your new categories\n",
    "\n",
    "model = model.to(device)"
   ],
   "metadata": {
    "colab": {
     "base_uri": "https://localhost:8080/"
    },
    "id": "0j6ffsaxeLEe",
    "outputId": "a1d9221b-8505-4555-b561-6ab18a1c8462",
    "ExecuteTime": {
     "end_time": "2024-01-20T21:25:36.055338Z",
     "start_time": "2024-01-20T21:25:35.846177Z"
    }
   }
  },
  {
   "cell_type": "code",
   "source": [
    "criterion = nn.CrossEntropyLoss()\n",
    "optimizer = optim.Adam(model.parameters())"
   ],
   "metadata": {
    "id": "faZn6i9te3oX",
    "ExecuteTime": {
     "end_time": "2024-01-20T21:25:36.242877Z",
     "start_time": "2024-01-20T21:25:36.233344Z"
    }
   },
   "execution_count": 7,
   "outputs": []
  },
  {
   "cell_type": "code",
   "execution_count": 8,
   "outputs": [],
   "source": [
    "def train_for_epoch(epoch):\n",
    "    model.train()\n",
    "    running_loss = 0.0\n",
    "\n",
    "    for inputs, labels in train_loader:\n",
    "        inputs, labels = inputs.to(device), labels.to(device)\n",
    "\n",
    "        optimizer.zero_grad()\n",
    "\n",
    "        outputs = model(inputs)\n",
    "        loss = criterion(outputs, labels)\n",
    "\n",
    "        loss.backward()\n",
    "        optimizer.step()\n",
    "\n",
    "        running_loss += loss.item()\n",
    "\n",
    "    print(f\"Epoch {epoch + 1}/{num_epochs}, Loss: {running_loss / len(train_loader)}\")"
   ],
   "metadata": {
    "collapsed": false,
    "ExecuteTime": {
     "end_time": "2024-01-20T21:25:36.717180Z",
     "start_time": "2024-01-20T21:25:36.714940Z"
    }
   }
  },
  {
   "cell_type": "code",
   "execution_count": 9,
   "outputs": [],
   "source": [
    "def evaluate_model(data_loader):\n",
    "    model.eval()\n",
    "    running_loss = 0.0\n",
    "    correct = 0\n",
    "    total = 0\n",
    "\n",
    "    with torch.no_grad():\n",
    "        for inputs, labels in data_loader:\n",
    "            inputs, labels = inputs.to(device), labels.to(device)\n",
    "            outputs = model(inputs)\n",
    "            loss = criterion(outputs, labels)\n",
    "            running_loss += loss.item()\n",
    "            _, predicted = torch.max(outputs.data, 1)\n",
    "            total += labels.size(0)\n",
    "            correct += (predicted == labels).sum().item()\n",
    "\n",
    "    print(f\"Evaluation loss: {running_loss / len(data_loader)}, Accuracy: {100 * correct / total}%\")"
   ],
   "metadata": {
    "collapsed": false,
    "ExecuteTime": {
     "end_time": "2024-01-20T21:25:37.097461Z",
     "start_time": "2024-01-20T21:25:37.095029Z"
    }
   }
  },
  {
   "cell_type": "code",
   "source": [
    "for epoch in range(num_epochs):\n",
    "    train_for_epoch(epoch)\n",
    "    evaluate_model(val_loader)\n",
    "\n",
    "print(\"Training complete\")"
   ],
   "metadata": {
    "colab": {
     "base_uri": "https://localhost:8080/"
    },
    "id": "W2gIsbz7fB2_",
    "outputId": "af9f20aa-68e5-4b74-890c-25db2c50ac7f",
    "ExecuteTime": {
     "end_time": "2024-01-20T21:28:16.738322Z",
     "start_time": "2024-01-20T21:25:38.132751Z"
    }
   },
   "execution_count": 10,
   "outputs": [
    {
     "name": "stdout",
     "output_type": "stream",
     "text": [
      "Epoch 1/5, Loss: 0.2750089086162356\n",
      "Evaluation loss: 0.22979466741283736, Accuracy: 89.35574229691876%\n",
      "Epoch 2/5, Loss: 0.1518262427013654\n",
      "Evaluation loss: 0.023492252577852923, Accuracy: 99.43977591036415%\n",
      "Epoch 3/5, Loss: 0.1333295546221332\n",
      "Evaluation loss: 0.026046083415470395, Accuracy: 99.15966386554622%\n",
      "Epoch 4/5, Loss: 0.12433242993071102\n",
      "Evaluation loss: 0.07660181703416431, Accuracy: 98.59943977591037%\n",
      "Epoch 5/5, Loss: 0.10292471072170883\n",
      "Evaluation loss: 0.011415122717153281, Accuracy: 99.71988795518207%\n",
      "Training complete\n"
     ]
    }
   ]
  },
  {
   "cell_type": "code",
   "execution_count": 13,
   "outputs": [
    {
     "name": "stdout",
     "output_type": "stream",
     "text": [
      "Evaluation loss: 0.008001111214980483, Accuracy: 100.0%\n"
     ]
    }
   ],
   "source": [
    "evaluate_model(test_loader)"
   ],
   "metadata": {
    "collapsed": false,
    "ExecuteTime": {
     "end_time": "2024-01-20T23:08:33.909760Z",
     "start_time": "2024-01-20T23:08:32.799866Z"
    }
   }
  },
  {
   "cell_type": "code",
   "execution_count": 14,
   "outputs": [],
   "source": [
    "idx_to_class = {v: k for k, v in train_dataset.class_to_idx.items()}\n",
    "\n",
    "def predict(img_path):\n",
    "    image = Image.open(img_path)\n",
    "\n",
    "    transformed_image = inference_transforms(image)\n",
    "    transformed_image = transformed_image.unsqueeze(0)  # Add batch dimension\n",
    "    transformed_image = transformed_image.to(device)\n",
    "\n",
    "    model.eval()\n",
    "\n",
    "    with torch.no_grad():\n",
    "        outputs = model(transformed_image)\n",
    "        _, predicted = torch.max(outputs, 1)\n",
    "        predicted_class = idx_to_class[predicted.item()]\n",
    "\n",
    "    return predicted_class"
   ],
   "metadata": {
    "id": "AmWZEiQUzGcy",
    "ExecuteTime": {
     "end_time": "2024-01-20T23:08:39.409737Z",
     "start_time": "2024-01-20T23:08:39.399908Z"
    }
   }
  },
  {
   "cell_type": "code",
   "execution_count": 16,
   "outputs": [
    {
     "name": "stdout",
     "output_type": "stream",
     "text": [
      "Predicted class: ok\n"
     ]
    }
   ],
   "source": [
    "predicted_class = predict('data/casting_data/val/ok/cast_ok_0_239.jpeg')\n",
    "print(f'Predicted class: {predicted_class}')"
   ],
   "metadata": {
    "colab": {
     "base_uri": "https://localhost:8080/"
    },
    "id": "WD4Fbj594Bhb",
    "outputId": "d3f04aab-af66-4323-eb2c-d52cc50ca51a",
    "ExecuteTime": {
     "end_time": "2024-01-20T23:08:57.792955Z",
     "start_time": "2024-01-20T23:08:57.732052Z"
    }
   }
  }
 ]
}
